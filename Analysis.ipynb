{
 "cells": [
  {
   "cell_type": "markdown",
   "id": "9381de59",
   "metadata": {},
   "source": [
    "2.\t**How to run your code (what command-line switches they are, what happens when you invoke the code, etc.)**\n",
    "\n",
    "    The pre-requisites are detailed in README.txt. Please install all the packages to ensure the following operations.\n",
    "    \n",
    "    1. The jupyter notebook file (Michi_Wang_Final_Project.ipynb) shows clearly the steps of the data cleaning, analysis, and conclusion. \n",
    "    \n",
    "    2. For the usage python file (Michi_Wang_Final_Project.py), there are two ways to run from the command line:\n",
    "        1. `python Michi_Wang_Final_Project.py --static`\\\n",
    "        This opens the stored database and performs analysis on stored data\n",
    "        2. `python Michi_Wang_Final_Project.py`\\\n",
    "        scrape the complete data, store in a database, then perform analysis on the database (most recently scraped data)"
   ]
  },
  {
   "cell_type": "markdown",
   "id": "6fb8ddb1",
   "metadata": {},
   "source": [
    "3.\t**Any major “gotchas” to the code (i.e. things that don’t work, go slowly, could be improved, etc.)**\n",
    "\n",
    "    There are two possible issues:\n",
    "    1. After several times of scraping from the website (https://cryptoslam.io/), it starts to reject my access (403 forbidden). It is probably becuause of the website mod_security or some similar server security feature which blocks known spider/bot user agents. There are two potential solutions\n",
    "        1. Set a known browser user agent. \\\n",
    "        ```\n",
    "        from urllib.request import Request, urlopen\n",
    "\n",
    "        req = Request('https://cryptoslam.io/', headers={'User-Agent': 'Mozilla/5.0'})\n",
    "        webpage = urlopen(req).read()\n",
    "        ```\n",
    "        2. Use a different source of data.\\\n",
    "        e.g. https://opensea.io/rankings or https://ranknft.io/\n",
    "    \n",
    "    2. When scraping the whole dataset, it will print error message like \"JSON Query to explore/tags/mnlthskin/: 404 Not Found [retrying; skip with ^C]\" in the terminal. It is because the API is not able to find the exact content. This can be ignored and wail until it complete scraping. \n",
    "\n"
   ]
  },
  {
   "cell_type": "markdown",
   "id": "38c5cd9a",
   "metadata": {},
   "source": [
    "4.  **Anything else you feel is relevant to the grading of your project your project.**\n",
    "\n",
    "    As I mentioned above, after several times of scraping from the website (https://cryptoslam.io/), it starts to reject my access (403 forbidden). It is probably becuause of the website mod_security or some similar server security feature which blocks known spider/bot user agents."
   ]
  },
  {
   "cell_type": "markdown",
   "id": "6f29136e",
   "metadata": {},
   "source": [
    "5. **What did you set out to study?  (i.e. what was the point of your project?  This should be close to your Milestone 1 assignment, but if you switched gears or changed things, note it here.)**\n",
    "\n",
    "    The NFT market is at the rage of the prevalence of decentralized blockchains. A couple of digital arts were once caused a sensation with their sky-high sale price. At the same time, it raises the question that do they reflecting the real price. The purpose of this project is to check how the influence of Instagram and the news will affect the trading activity of NFTs. The hypothesis was the trading activities of the NFT market are highly dependent on the influence of influencers and news. The number of times an NFT project is mentioned on Instagram and on the news website in a week will be reflected in the weekly trading volume change.\n",
    "    \n",
    "    With the progressive of the project, there are minor changes. I changed the source of the data. The three sources were twitter, cryptoslam, and nonfungible news. The twitter was replaced by instagram posts, since twitter has a strict restrictions of their APIs, and instagram API is more flexible. Also, the nonfungible news was replaced by google news, which gives us more conprehensive data. "
   ]
  },
  {
   "cell_type": "markdown",
   "id": "7c262b25",
   "metadata": {},
   "source": [
    "6. **What did you Discover/what were your conclusions (i.e. what were your findings?  Were your original assumptions confirmed, etc.?)**\n",
    "\n",
    "    The hypothesis was the trading activities of the NFT market are highly dependent on the influence of influencers and news. The number of times an NFT project is mentioned on Instagram and on the news website in a week will be reflected in the weekly trading volume change.\n",
    "    \n",
    "    The assumption of the three sets of data is close to:\\\n",
    "    Y = m1*X_news + m2*X_ig + b\\\n",
    "    Where m1 and m2 are positive real numbers;\\\n",
    "    X_new is the number of times an NFT project is mentioned in the news within seven days;\\\n",
    "    X_ig is the number of times an NFT project is tagged in a post within seven days;\\\n",
    "    And Y is the transaction number of an NFT project within seven days.\n",
    "    \n",
    "    Through the analysis, m2, which is the coefficient of instagram posts, turned out has no obvious statistical signifiacance of the observed difference in the data, so is set to zero. And the linearity between m1 and Y is proven. \n",
    "    \n",
    "    The approximate relationship is \\\n",
    "    transaction # = 13.6616 * news # + 0 * instagram posts # + 119.3625\\\n",
    "    Y = 13.6616 * X_news + 0 * X_ig + 119.3625"
   ]
  },
  {
   "cell_type": "markdown",
   "id": "dc6ea1e0",
   "metadata": {},
   "source": [
    "7. **What difficulties did you have in completing the project?**  \n",
    "\n",
    "    Data cleaning was the most difficult part of the project. When downloading the data, the scraped data had a lot of messy codes, repetition, etc. \n",
    "    \n",
    "    What is more, finding a good source of data was also difficult. Although there might be a good assumption, it still required me to find an appropriate source to operate on. "
   ]
  },
  {
   "cell_type": "markdown",
   "id": "ee389035",
   "metadata": {},
   "source": [
    "8. **What skills did you wish you had while you were doing the project?**\n",
    "\n",
    "    Data cleaning, data visualization, data analysis, and model fitting. The data cleaning took me most of the time. Also, what kind of analysis to use was crutial as well. "
   ]
  },
  {
   "cell_type": "markdown",
   "id": "18d3ff52",
   "metadata": {},
   "source": [
    "9. **What would you do “next” to expand or augment the project?**\n",
    "\n",
    "    For now there is only the data within seven days. The next step would be epanding the time period to probably a month, to see if the news and instagram posts has a longer term of effect on the respective nft project transactions. \n",
    "    \n",
    "    Or, using more sources of data to see if different kinds of social media can weight different on the efficacy of the promotion of NFT projects. "
   ]
  },
  {
   "cell_type": "code",
   "execution_count": 167,
   "id": "b6a8fd6e",
   "metadata": {
    "ExecuteTime": {
     "end_time": "2022-05-11T06:10:53.009442Z",
     "start_time": "2022-05-11T06:10:52.997729Z"
    }
   },
   "outputs": [],
   "source": [
    "import pandas as pd\n",
    "import numpy as np\n",
    "import requests\n",
    "import re\n",
    "from pygooglenews import GoogleNews\n",
    "import instaloader\n",
    "from datetime import datetime, timedelta\n",
    "import warnings\n",
    "from itertools import dropwhile, takewhile\n",
    "import time\n",
    "import matplotlib.pyplot as plt\n",
    "from sklearn import preprocessing\n",
    "from sklearn.linear_model import LinearRegression\n",
    "import sys\n",
    "import statsmodels.api as sm\n",
    "\n",
    "\n",
    "warnings.filterwarnings(\"ignore\")"
   ]
  },
  {
   "cell_type": "code",
   "execution_count": 168,
   "id": "28bdc203",
   "metadata": {
    "ExecuteTime": {
     "end_time": "2022-05-11T06:10:53.013819Z",
     "start_time": "2022-05-11T06:10:53.011535Z"
    }
   },
   "outputs": [],
   "source": [
    "# function used to delete the duplicate string\n",
    "def delete_duplicate(s:str)->str:\n",
    "    return s[:int(len(s)/2)]"
   ]
  },
  {
   "cell_type": "code",
   "execution_count": 169,
   "id": "f2d5431b",
   "metadata": {
    "ExecuteTime": {
     "end_time": "2022-05-11T06:10:53.017591Z",
     "start_time": "2022-05-11T06:10:53.014730Z"
    }
   },
   "outputs": [],
   "source": [
    "def count_ig_posts(name:str)->int:\n",
    "    try:\n",
    "        L = instaloader.Instaloader()\n",
    "        name = name.replace(' ', '')\n",
    "        posts = instaloader.Hashtag.from_name(L.context, name).get_posts()\n",
    "        end = datetime.today()\n",
    "        start = end - timedelta(days=7)\n",
    "        k = 0\n",
    "        for post in takewhile(lambda p: p.date > start, dropwhile(lambda p: p.date > end, posts)):\n",
    "            k += 1\n",
    "            if k == 500:\n",
    "                break\n",
    "        return k\n",
    "    except:\n",
    "        return 0\n"
   ]
  },
  {
   "cell_type": "code",
   "execution_count": 170,
   "id": "763eadaf",
   "metadata": {
    "ExecuteTime": {
     "end_time": "2022-05-11T06:10:53.021696Z",
     "start_time": "2022-05-11T06:10:53.018491Z"
    }
   },
   "outputs": [],
   "source": [
    "# scrape and clean the transaction data\n",
    "# return a dataframe\n",
    "def scrape_nft_transactions(): \n",
    "    # get the NFT salse information\n",
    "    response = requests.get('https://cryptoslam.io/')\n",
    "    content = response.text.split('\\n')\n",
    "    for pos in range(len(content)):\n",
    "        if len(re.findall('class=\\\"caret\\\"', content[pos])) and len(re.findall('\\%', content[pos])):\n",
    "            m = re.search(';(\\d+).(\\d+)\\%',content[pos])\n",
    "            updated = f';-{m.group(1)}.{m.group(2)}%'\n",
    "            new = re.sub(m.group(0), updated, content[pos])\n",
    "            content[pos] = new\n",
    "    content = '\\n'.join(content)\n",
    "    df = pd.read_html(str(content))[0]\n",
    "    df['Collection'] = df['Collection'].map(delete_duplicate)\n",
    "    df.drop(df.columns[[0,2]],axis=1, inplace=True)\n",
    "    return df"
   ]
  },
  {
   "cell_type": "code",
   "execution_count": 171,
   "id": "15f2695d",
   "metadata": {
    "ExecuteTime": {
     "end_time": "2022-05-11T06:10:53.025574Z",
     "start_time": "2022-05-11T06:10:53.023154Z"
    }
   },
   "outputs": [],
   "source": [
    "# scrape the news\n",
    "# return added dataframe\n",
    "def scrape_news(df):\n",
    "    news_number = []\n",
    "    gn = GoogleNews()\n",
    "    for i in list(df['Collection']):\n",
    "        search = gn.search(i, when = '7d')\n",
    "        n = len(search['entries'])\n",
    "        news_number.append(n)\n",
    "\n",
    "    # add to the main df\n",
    "    tmp = pd.DataFrame(news_number,columns=['Number of News'])\n",
    "    data = pd.concat([df,tmp],axis=1)\n",
    "    return data\n"
   ]
  },
  {
   "cell_type": "code",
   "execution_count": 172,
   "id": "a45efbce",
   "metadata": {
    "ExecuteTime": {
     "end_time": "2022-05-11T06:10:53.028892Z",
     "start_time": "2022-05-11T06:10:53.026448Z"
    }
   },
   "outputs": [],
   "source": [
    "# scrape the instagram\n",
    "# return added dataframe\n",
    "def scrape_instagram(data):\n",
    "    ig_number = []\n",
    "    totol = 0\n",
    "    for i in list(data['Collection']):\n",
    "        k = count_ig_posts(i)\n",
    "        ig_number.append(k)\n",
    "        totol += k\n",
    "        if totol > 2500:\n",
    "            time.sleep(60)\n",
    "            totol = 0\n",
    "\n",
    "    # add to the main df\n",
    "    tmp = pd.DataFrame(ig_number,columns=['Number of Instagram Posts'])\n",
    "    data = pd.concat([data,tmp],axis=1)\n",
    "    return data"
   ]
  },
  {
   "cell_type": "code",
   "execution_count": 173,
   "id": "4544f0ed",
   "metadata": {
    "ExecuteTime": {
     "end_time": "2022-05-11T06:10:53.032097Z",
     "start_time": "2022-05-11T06:10:53.029892Z"
    }
   },
   "outputs": [],
   "source": [
    "# store the df into a csv\n",
    "def df2csv(data, path='data.csv'):\n",
    "    data.to_csv(path)\n",
    "    return"
   ]
  },
  {
   "cell_type": "code",
   "execution_count": 174,
   "id": "4b15221c",
   "metadata": {
    "ExecuteTime": {
     "end_time": "2022-05-11T06:10:53.034873Z",
     "start_time": "2022-05-11T06:10:53.032874Z"
    }
   },
   "outputs": [],
   "source": [
    "# normalize the inputs into the same scale\n",
    "def normalize(data):\n",
    "    X = data[['Number of News', 'Number of Instagram Posts']].values\n",
    "    scaler = preprocessing.MinMaxScaler()\n",
    "    normalized = scaler.fit_transform(X)\n",
    "    normalized_df = pd.DataFrame(normalized)\n",
    "    return normalized_df"
   ]
  },
  {
   "cell_type": "code",
   "execution_count": 175,
   "id": "f59bffe8",
   "metadata": {
    "ExecuteTime": {
     "end_time": "2022-05-11T06:10:53.038051Z",
     "start_time": "2022-05-11T06:10:53.035713Z"
    }
   },
   "outputs": [],
   "source": [
    "# plot and save the diagram to show how the three data sources join\n",
    "# 1. NFT collections transactions\n",
    "# 2. News mentioning the NFT collection\n",
    "# 3. Instagram posts taggging the NFT collection\n",
    "def plot_save_diagram(normalized_df, data):\n",
    "    plt.scatter(normalized_df[0], data['Txns'], c='y', label='News')\n",
    "    plt.scatter(normalized_df[1], data['Txns'], c='g', label='Instagram')\n",
    "    plt.legend()\n",
    "    plt.title('Normalized Source Data v.s. NFT Collection Transactions in 7 Days')\n",
    "    plt.savefig('diagram.png')\n",
    "    return"
   ]
  },
  {
   "cell_type": "code",
   "execution_count": 176,
   "id": "35799b93",
   "metadata": {
    "ExecuteTime": {
     "end_time": "2022-05-11T06:10:53.040730Z",
     "start_time": "2022-05-11T06:10:53.038886Z"
    }
   },
   "outputs": [],
   "source": [
    "# Descriptive statistics include those that summarize the central tendency,\n",
    "# dispersion and shape of a dataset’s distribution\n",
    "def printStatistics(data)->None:\n",
    "    pd.set_option('display.float_format', lambda x: '%.2f' % x)\n",
    "    print('-------- Data Statistics --------')\n",
    "    print(data.describe())\n",
    "    return"
   ]
  },
  {
   "cell_type": "code",
   "execution_count": 177,
   "id": "b87563e8",
   "metadata": {
    "ExecuteTime": {
     "end_time": "2022-05-11T06:10:53.044104Z",
     "start_time": "2022-05-11T06:10:53.041487Z"
    }
   },
   "outputs": [],
   "source": [
    "# plot the linear regression \n",
    "def plotLR(x1, x2, y):\n",
    "    plt.scatter(x1, y, c='y', label='News')\n",
    "    plt.scatter(x2, y, c='g', label='Instagram')\n",
    "    m1,b1 = np.polyfit(x1, y, 1)\n",
    "    m2,b2 = np.polyfit(x2, y, 1)\n",
    "    plt.plot(x1, m1*x1+b1, c='y')\n",
    "    plt.plot(x2, m2*x2+b2, c='g')\n",
    "    plt.legend()\n",
    "    plt.title('Fitted Linear Regression')\n",
    "    plt.savefig('LR.png')\n",
    "    return"
   ]
  },
  {
   "cell_type": "code",
   "execution_count": 178,
   "id": "3524d79c",
   "metadata": {
    "ExecuteTime": {
     "end_time": "2022-05-11T06:10:53.047807Z",
     "start_time": "2022-05-11T06:10:53.044877Z"
    }
   },
   "outputs": [],
   "source": [
    "# create a model using sm.OLS\n",
    "def fitOLS(X, Y):\n",
    "    model = sm.OLS(Y, X, hasconst=True).fit()\n",
    "    print(model.summary())\n",
    "    return"
   ]
  },
  {
   "cell_type": "code",
   "execution_count": 179,
   "id": "4ef20044",
   "metadata": {
    "ExecuteTime": {
     "end_time": "2022-05-11T06:10:53.050913Z",
     "start_time": "2022-05-11T06:10:53.048612Z"
    }
   },
   "outputs": [],
   "source": [
    "# calculate the relationship manually\n",
    "def calculateRelationship(x_mean, y_mean, n, X_news, Y_news):\n",
    "    Sxy = np.sum(X_news*Y_news)- n*x_mean*y_mean\n",
    "    Sxx = np.sum(X_news*X_news)-n*x_mean*x_mean\n",
    "\n",
    "    m = Sxy/Sxx\n",
    "    b = y_mean-m*x_mean\n",
    "    print('----------- relationship -----------')\n",
    "    print('The relationship between x (number of news) and y (number of nft transactions) is')\n",
    "    print(f'y = {m} * x + {b}')"
   ]
  },
  {
   "cell_type": "code",
   "execution_count": 180,
   "id": "9b58af8f",
   "metadata": {
    "ExecuteTime": {
     "end_time": "2022-05-11T06:10:53.055021Z",
     "start_time": "2022-05-11T06:10:53.053261Z"
    }
   },
   "outputs": [],
   "source": [
    "# plot and save the histogram of the data\n",
    "def plotHist(X):\n",
    "    plt.hist(data[X], 20)  \n",
    "    plt.title('Histogram of '+X)\n",
    "    plt.savefig('Hist_'+X+'.png')\n",
    "    return"
   ]
  },
  {
   "cell_type": "code",
   "execution_count": 181,
   "id": "425712f8",
   "metadata": {
    "ExecuteTime": {
     "end_time": "2022-05-11T06:10:53.067889Z",
     "start_time": "2022-05-11T06:10:53.055676Z"
    }
   },
   "outputs": [
    {
     "name": "stdout",
     "output_type": "stream",
     "text": [
      "-------- Static Data --------\n",
      "                Collection        Sales Change (24h)  Buyers  Txns  \\\n",
      "0    Mutant Ape Yacht Club  $22,875,948       55.58%     176   203   \n",
      "1     Bored Ape Yacht Club  $16,744,075       94.28%      37    46   \n",
      "2                Moonbirds   $6,882,908      -73.79%      66    67   \n",
      "3    Bored Ape Kennel Club   $5,064,112       -1.41%     113   141   \n",
      "4              RTFKT MNLTH   $4,039,945      -40.85%      72   121   \n",
      "..                     ...          ...          ...     ...   ...   \n",
      "245          JRNY NFT Club      $17,940      -69.86%       6     6   \n",
      "246           Alien Worlds      $17,443      -20.65%     609  3792   \n",
      "247                Flappyz      $17,228      468.30%      23    47   \n",
      "248             MiningLabs      $17,176       37.59%      42    47   \n",
      "249            hic et nunc      $16,985       22.22%     714  1785   \n",
      "\n",
      "     Number of News  Number of Instagram Posts  \n",
      "0                26                        346  \n",
      "1               100                        500  \n",
      "2                37                        126  \n",
      "3                 5                         42  \n",
      "4                 4                          6  \n",
      "..              ...                        ...  \n",
      "245               1                          0  \n",
      "246             100                          0  \n",
      "247               0                          0  \n",
      "248               0                          0  \n",
      "249               1                          0  \n",
      "\n",
      "[250 rows x 7 columns]\n",
      "-------- Data Statistics --------\n",
      "       Buyers     Txns  Number of News  Number of Instagram Posts\n",
      "count  250.00   250.00          250.00                     250.00\n",
      "mean   155.92   401.94           20.68                      32.08\n",
      "std    624.69  2042.10           35.41                      87.96\n",
      "min      1.00     1.00            0.00                       0.00\n",
      "25%     14.00    19.00            0.00                       0.00\n",
      "50%     32.50    45.50            2.00                       0.00\n",
      "75%     79.00   119.75           17.75                      10.00\n",
      "max   7855.00 24440.00          100.00                     500.00\n"
     ]
    }
   ],
   "source": [
    "data = pd.read_csv('data.csv', index_col=0)\n",
    "print('-------- Static Data --------')\n",
    "print(data)\n",
    "printStatistics(data)"
   ]
  },
  {
   "cell_type": "code",
   "execution_count": 182,
   "id": "9cb52609",
   "metadata": {
    "ExecuteTime": {
     "end_time": "2022-05-11T06:10:53.142637Z",
     "start_time": "2022-05-11T06:10:53.068872Z"
    }
   },
   "outputs": [
    {
     "data": {
      "image/png": "[encoded data removed]",
      "text/plain": [
       "<Figure size 432x288 with 1 Axes>"
      ]
     },
     "metadata": {
      "needs_background": "light"
     },
     "output_type": "display_data"
    }
   ],
   "source": [
    "plotHist('Number of News')"
   ]
  },
  {
   "cell_type": "code",
   "execution_count": 183,
   "id": "f77fbd41",
   "metadata": {
    "ExecuteTime": {
     "end_time": "2022-05-11T06:10:53.215632Z",
     "start_time": "2022-05-11T06:10:53.143557Z"
    }
   },
   "outputs": [
    {
     "data": {
      "image/png": "[encoded data removed]",
      "text/plain": [
       "<Figure size 432x288 with 1 Axes>"
      ]
     },
     "metadata": {
      "needs_background": "light"
     },
     "output_type": "display_data"
    }
   ],
   "source": [
    "plotHist('Number of Instagram Posts')"
   ]
  },
  {
   "cell_type": "markdown",
   "id": "4d3807f1",
   "metadata": {},
   "source": [
    "From the histograms above, we can see that there are many zeros in the data. Both of them have a great amount of zeros. Neither of the data is indicating a typical kind of distribution. "
   ]
  },
  {
   "cell_type": "code",
   "execution_count": 184,
   "id": "325ac85c",
   "metadata": {
    "ExecuteTime": {
     "end_time": "2022-05-11T06:10:53.309549Z",
     "start_time": "2022-05-11T06:10:53.217257Z"
    }
   },
   "outputs": [
    {
     "name": "stdout",
     "output_type": "stream",
     "text": [
      "diagram.png created successfully\n"
     ]
    },
    {
     "data": {
      "image/png": "[encoded data removed]",
      "text/plain": [
       "<Figure size 432x288 with 1 Axes>"
      ]
     },
     "metadata": {
      "needs_background": "light"
     },
     "output_type": "display_data"
    }
   ],
   "source": [
    "# find the relationship between 2 inputs and the output\n",
    "normalized = normalize(data)\n",
    "plot_save_diagram(normalized, data)\n",
    "print('diagram.png created successfully')\n",
    "normalized = normalized.rename(columns={0:'Number of News', 1:'Number of Instagram Posts'})\n"
   ]
  },
  {
   "cell_type": "code",
   "execution_count": 185,
   "id": "d20a604a",
   "metadata": {
    "ExecuteTime": {
     "end_time": "2022-05-11T06:10:53.458796Z",
     "start_time": "2022-05-11T06:10:53.311117Z"
    }
   },
   "outputs": [
    {
     "name": "stdout",
     "output_type": "stream",
     "text": [
      "LR.png created successfully\n"
     ]
    },
    {
     "data": {
      "image/png": "[encoded data removed]",
      "text/plain": [
       "<Figure size 432x288 with 1 Axes>"
      ]
     },
     "metadata": {
      "needs_background": "light"
     },
     "output_type": "display_data"
    }
   ],
   "source": [
    "# plot LR of both inputs to see if we can tell directly the relationships\n",
    "x1 = normalized.iloc[:, 0]\n",
    "x2 = normalized.iloc[:, 1]\n",
    "y = data['Txns']\n",
    "plotLR(x1, x2, y)\n",
    "print('LR.png created successfully')"
   ]
  },
  {
   "cell_type": "markdown",
   "id": "3bd88845",
   "metadata": {},
   "source": [
    "From the above plot, it is hard for us to infer directly that there are linear relationships between the number of news, number of instagram posts, and number of transactions."
   ]
  },
  {
   "cell_type": "code",
   "execution_count": 186,
   "id": "b9d7c1d1",
   "metadata": {
    "ExecuteTime": {
     "end_time": "2022-05-11T06:10:53.466058Z",
     "start_time": "2022-05-11T06:10:53.459932Z"
    }
   },
   "outputs": [
    {
     "name": "stdout",
     "output_type": "stream",
     "text": [
      "                            OLS Regression Results                            \n",
      "==============================================================================\n",
      "Dep. Variable:                   Txns   R-squared:                       0.060\n",
      "Model:                            OLS   Adj. R-squared:                  0.056\n",
      "Method:                 Least Squares   F-statistic:                     15.89\n",
      "Date:                Tue, 10 May 2022   Prob (F-statistic):           8.85e-05\n",
      "Time:                        23:10:53   Log-Likelihood:                -2251.9\n",
      "No. Observations:                 250   AIC:                             4508.\n",
      "Df Residuals:                     248   BIC:                             4515.\n",
      "Df Model:                           1                                         \n",
      "Covariance Type:            nonrobust                                         \n",
      "=============================================================================================\n",
      "                                coef    std err          t      P>|t|      [0.025      0.975]\n",
      "---------------------------------------------------------------------------------------------\n",
      "Number of News             1333.4468    335.206      3.978      0.000     673.233    1993.661\n",
      "Number of Instagram Posts   972.0881    734.259      1.324      0.187    -474.091    2418.267\n",
      "==============================================================================\n",
      "Omnibus:                      416.274   Durbin-Watson:                   1.313\n",
      "Prob(Omnibus):                  0.000   Jarque-Bera (JB):            85420.994\n",
      "Skew:                           8.706   Prob(JB):                         0.00\n",
      "Kurtosis:                      91.866   Cond. No.                         2.50\n",
      "==============================================================================\n",
      "\n",
      "Notes:\n",
      "[1] Standard Errors assume that the covariance matrix of the errors is correctly specified.\n"
     ]
    }
   ],
   "source": [
    "# find the relationship between the inputs and the output\n",
    "X = normalized\n",
    "Y = data['Txns']\n",
    "fitOLS(X, Y)"
   ]
  },
  {
   "cell_type": "markdown",
   "id": "09b68e65",
   "metadata": {},
   "source": [
    "From the above summary of the regression we fit from the data, the p value of \"Number of News\" is less than 0.05, we can reject the null hypothesis (there's no relationship between the number of news and the number of transctions), so there should be a relationship between it and the number of transactions; on the other hand, the p value of \"Number of Instagram Posts\" is greatter than 0.05, so we can infer it has no obvious statistical signifiacance of the observed difference in the data.\n",
    "\n",
    "Therefore, we can say the second input has no obvious effect towards our output. There's no need to use the normalizd data anymore. So, we can used the original data to findout the relationship between number of news and number of transactions."
   ]
  },
  {
   "cell_type": "code",
   "execution_count": 187,
   "id": "f3be1d1e",
   "metadata": {
    "ExecuteTime": {
     "end_time": "2022-05-11T06:10:53.474395Z",
     "start_time": "2022-05-11T06:10:53.467048Z"
    }
   },
   "outputs": [
    {
     "name": "stdout",
     "output_type": "stream",
     "text": [
      "                            OLS Regression Results                            \n",
      "==============================================================================\n",
      "Dep. Variable:                   Txns   R-squared:                       0.056\n",
      "Model:                            OLS   Adj. R-squared:                  0.052\n",
      "Method:                 Least Squares   F-statistic:                     14.74\n",
      "Date:                Tue, 10 May 2022   Prob (F-statistic):           0.000156\n",
      "Time:                        23:10:53   Log-Likelihood:                -2252.4\n",
      "No. Observations:                 250   AIC:                             4509.\n",
      "Df Residuals:                     248   BIC:                             4516.\n",
      "Df Model:                           1                                         \n",
      "Covariance Type:            nonrobust                                         \n",
      "==================================================================================\n",
      "                     coef    std err          t      P>|t|      [0.025      0.975]\n",
      "----------------------------------------------------------------------------------\n",
      "Number of News    13.6616      3.558      3.840      0.000       6.654      20.669\n",
      "0                119.3625    145.686      0.819      0.413    -167.577     406.302\n",
      "==============================================================================\n",
      "Omnibus:                      420.956   Durbin-Watson:                   1.278\n",
      "Prob(Omnibus):                  0.000   Jarque-Bera (JB):            89694.351\n",
      "Skew:                           8.889   Prob(JB):                         0.00\n",
      "Kurtosis:                      94.075   Cond. No.                         47.5\n",
      "==============================================================================\n",
      "\n",
      "Notes:\n",
      "[1] Standard Errors assume that the covariance matrix of the errors is correctly specified.\n"
     ]
    }
   ],
   "source": [
    "# fit a model on only on the number of news as input\n",
    "X_news = pd.concat([data['Number of News'], pd.DataFrame([1]*250)], axis=1)\n",
    "Y_news = data['Txns']\n",
    "fitOLS(X_news, Y_news)"
   ]
  },
  {
   "cell_type": "markdown",
   "id": "6cd40b97",
   "metadata": {},
   "source": [
    "From the above summary, the calculated relationship is y = 13.6616 * x + 119.3625.\n",
    "\n",
    "The R squared is pretty low. Then we can manually calculate the relationship mx+b between number of news and number of transactions."
   ]
  },
  {
   "cell_type": "code",
   "execution_count": 188,
   "id": "80aeeb82",
   "metadata": {
    "ExecuteTime": {
     "end_time": "2022-05-11T06:10:53.478288Z",
     "start_time": "2022-05-11T06:10:53.475573Z"
    }
   },
   "outputs": [
    {
     "name": "stdout",
     "output_type": "stream",
     "text": [
      "----------- relationship -----------\n",
      "The relationship between x (number of news) and y (number of nft transactions) is\n",
      "y = 13.661646384075631 * x + 119.36250619177963\n"
     ]
    }
   ],
   "source": [
    "# manual calculation \n",
    "x_mean = np.mean(data['Number of News'])\n",
    "y_mean = np.mean(data['Txns'])\n",
    "n = 250\n",
    "calculateRelationship(x_mean, y_mean, n, data['Number of News'], Y_news)"
   ]
  },
  {
   "cell_type": "markdown",
   "id": "fab78783",
   "metadata": {},
   "source": [
    "The manual calculation agrees with the model calculation. So, we can conclude the relationship between the three variables within 7 days:\n",
    "\n",
    "transaction # = 13.6616 * news # + 0 * instagram posts # + 119.3625"
   ]
  },
  {
   "cell_type": "code",
   "execution_count": null,
   "id": "dcb78d30",
   "metadata": {},
   "outputs": [],
   "source": []
  }
 ],
 "metadata": {
  "kernelspec": {
   "display_name": "Python 3 (ipykernel)",
   "language": "python",
   "name": "python3"
  },
  "language_info": {
   "codemirror_mode": {
    "name": "ipython",
    "version": 3
   },
   "file_extension": ".py",
   "mimetype": "text/x-python",
   "name": "python",
   "nbconvert_exporter": "python",
   "pygments_lexer": "ipython3",
   "version": "3.10.4"
  }
 },
 "nbformat": 4,
 "nbformat_minor": 5
}
